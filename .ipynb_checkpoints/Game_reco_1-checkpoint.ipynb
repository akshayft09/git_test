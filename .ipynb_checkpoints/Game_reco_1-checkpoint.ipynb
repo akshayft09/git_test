{
 "cells": [
  {
   "cell_type": "code",
   "execution_count": 1,
   "id": "79af8b98-604a-4dcb-8e22-0eaf7e66fe65",
   "metadata": {},
   "outputs": [],
   "source": [
    "import pandas as pd\n",
    "from sklearn.cluster import KMeans\n",
    "from sklearn.preprocessing import StandardScaler\n",
    "from matplotlib import pyplot as plt\n",
    "from sklearn.preprocessing import LabelEncoder"
   ]
  },
  {
   "cell_type": "code",
   "execution_count": 2,
   "id": "d36de119-2a2f-4a88-9aa3-60f2401d0abc",
   "metadata": {},
   "outputs": [],
   "source": [
    "data = pd.read_csv(r\"C:\\Users\\akshay.nayak\\Downloads\\japan_data.csv\")"
   ]
  },
  {
   "cell_type": "code",
   "execution_count": 3,
   "id": "e32c5658-a176-4075-8a34-dface7dd8ac2",
   "metadata": {},
   "outputs": [],
   "source": [
    "label_encoder = LabelEncoder()\n",
    "data['userid_e'] = label_encoder.fit_transform(data['userid'])\n",
    "data['gameid_e'] = label_encoder.fit_transform(data['gameid'])"
   ]
  },
  {
   "cell_type": "code",
   "execution_count": 4,
   "id": "42d980af-b5bd-4548-9de8-10aaeb655538",
   "metadata": {},
   "outputs": [
    {
     "name": "stdout",
     "output_type": "stream",
     "text": [
      "<class 'pandas.core.frame.DataFrame'>\n",
      "Index: 112311 entries, 0 to 112319\n",
      "Data columns (total 8 columns):\n",
      " #   Column        Non-Null Count   Dtype  \n",
      "---  ------        --------------   -----  \n",
      " 0   userid        112311 non-null  object \n",
      " 1   gameid        112311 non-null  object \n",
      " 2   process_date  112311 non-null  object \n",
      " 3   dur_sec       112311 non-null  float64\n",
      " 4   sess          112311 non-null  int64  \n",
      " 5   plays         112311 non-null  int64  \n",
      " 6   userid_e      112311 non-null  int32  \n",
      " 7   gameid_e      112311 non-null  int32  \n",
      "dtypes: float64(1), int32(2), int64(2), object(3)\n",
      "memory usage: 6.9+ MB\n"
     ]
    },
    {
     "name": "stderr",
     "output_type": "stream",
     "text": [
      "C:\\Users\\akshay.nayak\\AppData\\Local\\Temp\\ipykernel_1032\\1215665796.py:2: SettingWithCopyWarning: \n",
      "A value is trying to be set on a copy of a slice from a DataFrame.\n",
      "Try using .loc[row_indexer,col_indexer] = value instead\n",
      "\n",
      "See the caveats in the documentation: https://pandas.pydata.org/pandas-docs/stable/user_guide/indexing.html#returning-a-view-versus-a-copy\n",
      "  df['dur_hr'] = df['dur_hr']/1000\n",
      "C:\\Users\\akshay.nayak\\AppData\\Local\\Temp\\ipykernel_1032\\1215665796.py:3: SettingWithCopyWarning: \n",
      "A value is trying to be set on a copy of a slice from a DataFrame\n",
      "\n",
      "See the caveats in the documentation: https://pandas.pydata.org/pandas-docs/stable/user_guide/indexing.html#returning-a-view-versus-a-copy\n",
      "  df.rename(columns = {'dur_hr':'dur_sec'}, inplace = True)\n"
     ]
    },
    {
     "data": {
      "text/html": [
       "<div>\n",
       "<style scoped>\n",
       "    .dataframe tbody tr th:only-of-type {\n",
       "        vertical-align: middle;\n",
       "    }\n",
       "\n",
       "    .dataframe tbody tr th {\n",
       "        vertical-align: top;\n",
       "    }\n",
       "\n",
       "    .dataframe thead th {\n",
       "        text-align: right;\n",
       "    }\n",
       "</style>\n",
       "<table border=\"1\" class=\"dataframe\">\n",
       "  <thead>\n",
       "    <tr style=\"text-align: right;\">\n",
       "      <th></th>\n",
       "      <th>dur_sec</th>\n",
       "      <th>sess</th>\n",
       "      <th>plays</th>\n",
       "      <th>userid_e</th>\n",
       "      <th>gameid_e</th>\n",
       "    </tr>\n",
       "  </thead>\n",
       "  <tbody>\n",
       "    <tr>\n",
       "      <th>count</th>\n",
       "      <td>112311.000000</td>\n",
       "      <td>112311.000000</td>\n",
       "      <td>112311.000000</td>\n",
       "      <td>112311.000000</td>\n",
       "      <td>112311.000000</td>\n",
       "    </tr>\n",
       "    <tr>\n",
       "      <th>mean</th>\n",
       "      <td>627.174963</td>\n",
       "      <td>2.395642</td>\n",
       "      <td>2.806234</td>\n",
       "      <td>9840.831308</td>\n",
       "      <td>75.634951</td>\n",
       "    </tr>\n",
       "    <tr>\n",
       "      <th>std</th>\n",
       "      <td>2252.914989</td>\n",
       "      <td>4.284989</td>\n",
       "      <td>5.782690</td>\n",
       "      <td>5673.917054</td>\n",
       "      <td>43.173074</td>\n",
       "    </tr>\n",
       "    <tr>\n",
       "      <th>min</th>\n",
       "      <td>0.004000</td>\n",
       "      <td>1.000000</td>\n",
       "      <td>1.000000</td>\n",
       "      <td>0.000000</td>\n",
       "      <td>0.000000</td>\n",
       "    </tr>\n",
       "    <tr>\n",
       "      <th>25%</th>\n",
       "      <td>24.684000</td>\n",
       "      <td>1.000000</td>\n",
       "      <td>1.000000</td>\n",
       "      <td>4928.000000</td>\n",
       "      <td>47.000000</td>\n",
       "    </tr>\n",
       "    <tr>\n",
       "      <th>50%</th>\n",
       "      <td>116.644000</td>\n",
       "      <td>1.000000</td>\n",
       "      <td>1.000000</td>\n",
       "      <td>9689.000000</td>\n",
       "      <td>69.000000</td>\n",
       "    </tr>\n",
       "    <tr>\n",
       "      <th>75%</th>\n",
       "      <td>402.654000</td>\n",
       "      <td>2.000000</td>\n",
       "      <td>3.000000</td>\n",
       "      <td>14732.000000</td>\n",
       "      <td>118.000000</td>\n",
       "    </tr>\n",
       "    <tr>\n",
       "      <th>max</th>\n",
       "      <td>79535.289000</td>\n",
       "      <td>248.000000</td>\n",
       "      <td>255.000000</td>\n",
       "      <td>19693.000000</td>\n",
       "      <td>155.000000</td>\n",
       "    </tr>\n",
       "  </tbody>\n",
       "</table>\n",
       "</div>"
      ],
      "text/plain": [
       "             dur_sec           sess          plays       userid_e  \\\n",
       "count  112311.000000  112311.000000  112311.000000  112311.000000   \n",
       "mean      627.174963       2.395642       2.806234    9840.831308   \n",
       "std      2252.914989       4.284989       5.782690    5673.917054   \n",
       "min         0.004000       1.000000       1.000000       0.000000   \n",
       "25%        24.684000       1.000000       1.000000    4928.000000   \n",
       "50%       116.644000       1.000000       1.000000    9689.000000   \n",
       "75%       402.654000       2.000000       3.000000   14732.000000   \n",
       "max     79535.289000     248.000000     255.000000   19693.000000   \n",
       "\n",
       "            gameid_e  \n",
       "count  112311.000000  \n",
       "mean       75.634951  \n",
       "std        43.173074  \n",
       "min         0.000000  \n",
       "25%        47.000000  \n",
       "50%        69.000000  \n",
       "75%       118.000000  \n",
       "max       155.000000  "
      ]
     },
     "execution_count": 4,
     "metadata": {},
     "output_type": "execute_result"
    }
   ],
   "source": [
    "df = data.dropna()\n",
    "df['dur_hr'] = df['dur_hr']/1000\n",
    "df.rename(columns = {'dur_hr':'dur_sec'}, inplace = True)\n",
    "df = df[(df['dur_sec'] <= 100000.00) & (df['plays'] <= 300)]\n",
    "df.info()\n",
    "df.describe()"
   ]
  },
  {
   "cell_type": "code",
   "execution_count": 5,
   "id": "3b1ed065-f507-4d1f-9e91-97e6fe13fd79",
   "metadata": {},
   "outputs": [],
   "source": [
    "df['days_played'] = df.groupby(['userid', 'gameid'])['process_date'].transform('nunique')\n",
    "df['total_duration'] = df.groupby(['userid', 'gameid'])['dur_sec'].transform('sum')\n",
    "df['total_sessions'] = df.groupby(['userid', 'gameid'])['sess'].transform('sum')\n",
    "df['gameplays'] = df.groupby(['userid', 'gameid'])['plays'].transform('sum')\n",
    "\n",
    "df_1 = df[['userid', 'gameid', 'userid_e', 'gameid_e', 'days_played', 'total_duration', 'total_sessions', 'gameplays']].drop_duplicates()"
   ]
  },
  {
   "cell_type": "code",
   "execution_count": 6,
   "id": "f4a2df54-3b54-473e-816e-1f253bdf408d",
   "metadata": {},
   "outputs": [],
   "source": [
    "X = df_1[['total_duration', 'total_sessions', 'gameplays', 'days_played']]"
   ]
  },
  {
   "cell_type": "code",
   "execution_count": 7,
   "id": "dfc052dd-3aae-420a-8e72-5e47f28514c9",
   "metadata": {},
   "outputs": [],
   "source": [
    "scaler = StandardScaler()\n",
    "X_scaled = scaler.fit_transform(X)"
   ]
  },
  {
   "cell_type": "code",
   "execution_count": 8,
   "id": "266a1c32-9f16-43f3-a61e-8a690b965a94",
   "metadata": {},
   "outputs": [
    {
     "name": "stderr",
     "output_type": "stream",
     "text": [
      "C:\\Users\\akshay.nayak\\AppData\\Local\\anaconda3\\Lib\\site-packages\\sklearn\\cluster\\_kmeans.py:870: FutureWarning: The default value of `n_init` will change from 10 to 'auto' in 1.4. Set the value of `n_init` explicitly to suppress the warning\n",
      "  warnings.warn(\n",
      "C:\\Users\\akshay.nayak\\AppData\\Local\\anaconda3\\Lib\\site-packages\\sklearn\\cluster\\_kmeans.py:870: FutureWarning: The default value of `n_init` will change from 10 to 'auto' in 1.4. Set the value of `n_init` explicitly to suppress the warning\n",
      "  warnings.warn(\n",
      "C:\\Users\\akshay.nayak\\AppData\\Local\\anaconda3\\Lib\\site-packages\\sklearn\\cluster\\_kmeans.py:870: FutureWarning: The default value of `n_init` will change from 10 to 'auto' in 1.4. Set the value of `n_init` explicitly to suppress the warning\n",
      "  warnings.warn(\n",
      "C:\\Users\\akshay.nayak\\AppData\\Local\\anaconda3\\Lib\\site-packages\\sklearn\\cluster\\_kmeans.py:870: FutureWarning: The default value of `n_init` will change from 10 to 'auto' in 1.4. Set the value of `n_init` explicitly to suppress the warning\n",
      "  warnings.warn(\n",
      "C:\\Users\\akshay.nayak\\AppData\\Local\\anaconda3\\Lib\\site-packages\\sklearn\\cluster\\_kmeans.py:870: FutureWarning: The default value of `n_init` will change from 10 to 'auto' in 1.4. Set the value of `n_init` explicitly to suppress the warning\n",
      "  warnings.warn(\n",
      "C:\\Users\\akshay.nayak\\AppData\\Local\\anaconda3\\Lib\\site-packages\\sklearn\\cluster\\_kmeans.py:870: FutureWarning: The default value of `n_init` will change from 10 to 'auto' in 1.4. Set the value of `n_init` explicitly to suppress the warning\n",
      "  warnings.warn(\n",
      "C:\\Users\\akshay.nayak\\AppData\\Local\\anaconda3\\Lib\\site-packages\\sklearn\\cluster\\_kmeans.py:870: FutureWarning: The default value of `n_init` will change from 10 to 'auto' in 1.4. Set the value of `n_init` explicitly to suppress the warning\n",
      "  warnings.warn(\n",
      "C:\\Users\\akshay.nayak\\AppData\\Local\\anaconda3\\Lib\\site-packages\\sklearn\\cluster\\_kmeans.py:870: FutureWarning: The default value of `n_init` will change from 10 to 'auto' in 1.4. Set the value of `n_init` explicitly to suppress the warning\n",
      "  warnings.warn(\n",
      "C:\\Users\\akshay.nayak\\AppData\\Local\\anaconda3\\Lib\\site-packages\\sklearn\\cluster\\_kmeans.py:870: FutureWarning: The default value of `n_init` will change from 10 to 'auto' in 1.4. Set the value of `n_init` explicitly to suppress the warning\n",
      "  warnings.warn(\n",
      "C:\\Users\\akshay.nayak\\AppData\\Local\\anaconda3\\Lib\\site-packages\\sklearn\\cluster\\_kmeans.py:870: FutureWarning: The default value of `n_init` will change from 10 to 'auto' in 1.4. Set the value of `n_init` explicitly to suppress the warning\n",
      "  warnings.warn(\n"
     ]
    },
    {
     "data": {
      "image/png": "[encoded data removed]",
      "text/plain": [
       "<Figure size 1000x600 with 1 Axes>"
      ]
     },
     "metadata": {},
     "output_type": "display_data"
    }
   ],
   "source": [
    "ss = []\n",
    "max_clusters = 10  # Maximum number of clusters to consider\n",
    "for i in range(1, max_clusters + 1):\n",
    "    kmeans = KMeans(n_clusters=i)\n",
    "    kmeans.fit(X_scaled)\n",
    "    ss.append(kmeans.inertia_)\n",
    "\n",
    "# Plot the elbow method graph\n",
    "plt.figure(figsize=(10, 6))\n",
    "plt.plot(range(1, max_clusters + 1), ss, marker='o', linestyle='--')\n",
    "plt.title('Elbow Method')\n",
    "plt.xlabel('Number of Clusters')\n",
    "plt.ylabel('SS')\n",
    "plt.xticks(range(1, max_clusters + 1))\n",
    "plt.grid(True)\n",
    "plt.show()"
   ]
  },
  {
   "cell_type": "code",
   "execution_count": 9,
   "id": "621f915f-cc59-410f-8a40-bc2b6c2609b0",
   "metadata": {},
   "outputs": [
    {
     "name": "stderr",
     "output_type": "stream",
     "text": [
      "C:\\Users\\akshay.nayak\\AppData\\Local\\anaconda3\\Lib\\site-packages\\sklearn\\cluster\\_kmeans.py:870: FutureWarning: The default value of `n_init` will change from 10 to 'auto' in 1.4. Set the value of `n_init` explicitly to suppress the warning\n",
      "  warnings.warn(\n"
     ]
    }
   ],
   "source": [
    "kmeans = KMeans(n_clusters=10)\n",
    "kmeans.fit(X_scaled)\n",
    "\n",
    "# Add cluster labels to your dataset\n",
    "df_1['cluster'] = kmeans.labels_"
   ]
  },
  {
   "cell_type": "code",
   "execution_count": 10,
   "id": "1fdca9c3-6a85-4242-87bb-797a43b7c822",
   "metadata": {},
   "outputs": [
    {
     "data": {
      "text/plain": [
       "<matplotlib.colorbar.Colorbar at 0x1b06d77cb90>"
      ]
     },
     "execution_count": 10,
     "metadata": {},
     "output_type": "execute_result"
    },
    {
     "data": {
      "image/png": "[encoded data removed]",
      "text/plain": [
       "<Figure size 640x480 with 2 Axes>"
      ]
     },
     "metadata": {},
     "output_type": "display_data"
    }
   ],
   "source": [
    "plt.scatter(X_scaled[:, 1], X_scaled[:, 0], c=kmeans.labels_)\n",
    "plt.colorbar(label='Cluster')"
   ]
  },
  {
   "cell_type": "code",
   "execution_count": 11,
   "id": "a1d137a1-5bba-4c91-b059-c38f40f46f54",
   "metadata": {},
   "outputs": [
    {
     "data": {
      "text/html": [
       "<div>\n",
       "<style scoped>\n",
       "    .dataframe tbody tr th:only-of-type {\n",
       "        vertical-align: middle;\n",
       "    }\n",
       "\n",
       "    .dataframe tbody tr th {\n",
       "        vertical-align: top;\n",
       "    }\n",
       "\n",
       "    .dataframe thead th {\n",
       "        text-align: right;\n",
       "    }\n",
       "</style>\n",
       "<table border=\"1\" class=\"dataframe\">\n",
       "  <thead>\n",
       "    <tr style=\"text-align: right;\">\n",
       "      <th></th>\n",
       "      <th>userid</th>\n",
       "      <th>gameid</th>\n",
       "      <th>userid_e</th>\n",
       "      <th>gameid_e</th>\n",
       "      <th>days_played</th>\n",
       "      <th>total_duration</th>\n",
       "      <th>total_sessions</th>\n",
       "      <th>gameplays</th>\n",
       "      <th>cluster</th>\n",
       "    </tr>\n",
       "  </thead>\n",
       "  <tbody>\n",
       "    <tr>\n",
       "      <th>0</th>\n",
       "      <td>88e814a1-6fc7-11ee-90e7-999399339d4f</td>\n",
       "      <td>9c80b060-6900-11ee-8ba3-310ca976d82c</td>\n",
       "      <td>10465</td>\n",
       "      <td>90</td>\n",
       "      <td>5</td>\n",
       "      <td>1670.313</td>\n",
       "      <td>17</td>\n",
       "      <td>19</td>\n",
       "      <td>2</td>\n",
       "    </tr>\n",
       "    <tr>\n",
       "      <th>1</th>\n",
       "      <td>2722b2fb-f087-11ed-8905-2fde28c7284c</td>\n",
       "      <td>af719aa0-5914-11ee-a54b-1d97135d8ba9</td>\n",
       "      <td>3032</td>\n",
       "      <td>102</td>\n",
       "      <td>6</td>\n",
       "      <td>14943.763</td>\n",
       "      <td>29</td>\n",
       "      <td>31</td>\n",
       "      <td>8</td>\n",
       "    </tr>\n",
       "    <tr>\n",
       "      <th>2</th>\n",
       "      <td>dbc23a2b-defb-11ed-8e49-7167443c5acc</td>\n",
       "      <td>95beb870-2536-11ee-8eae-d16eb4742af1</td>\n",
       "      <td>16821</td>\n",
       "      <td>85</td>\n",
       "      <td>26</td>\n",
       "      <td>139167.363</td>\n",
       "      <td>146</td>\n",
       "      <td>431</td>\n",
       "      <td>3</td>\n",
       "    </tr>\n",
       "    <tr>\n",
       "      <th>3</th>\n",
       "      <td>284eee85-ea53-11ed-ba86-77a891f816c8</td>\n",
       "      <td>557c0c10-2548-11ee-8eae-d16eb4742af1</td>\n",
       "      <td>3133</td>\n",
       "      <td>47</td>\n",
       "      <td>3</td>\n",
       "      <td>165.771</td>\n",
       "      <td>4</td>\n",
       "      <td>5</td>\n",
       "      <td>2</td>\n",
       "    </tr>\n",
       "    <tr>\n",
       "      <th>4</th>\n",
       "      <td>833d2f46-e266-11ed-985a-b39b5f512e5f</td>\n",
       "      <td>c30b1420-253d-11ee-8eae-d16eb4742af1</td>\n",
       "      <td>10032</td>\n",
       "      <td>118</td>\n",
       "      <td>4</td>\n",
       "      <td>2045.379</td>\n",
       "      <td>12</td>\n",
       "      <td>12</td>\n",
       "      <td>2</td>\n",
       "    </tr>\n",
       "  </tbody>\n",
       "</table>\n",
       "</div>"
      ],
      "text/plain": [
       "                                 userid                                gameid  \\\n",
       "0  88e814a1-6fc7-11ee-90e7-999399339d4f  9c80b060-6900-11ee-8ba3-310ca976d82c   \n",
       "1  2722b2fb-f087-11ed-8905-2fde28c7284c  af719aa0-5914-11ee-a54b-1d97135d8ba9   \n",
       "2  dbc23a2b-defb-11ed-8e49-7167443c5acc  95beb870-2536-11ee-8eae-d16eb4742af1   \n",
       "3  284eee85-ea53-11ed-ba86-77a891f816c8  557c0c10-2548-11ee-8eae-d16eb4742af1   \n",
       "4  833d2f46-e266-11ed-985a-b39b5f512e5f  c30b1420-253d-11ee-8eae-d16eb4742af1   \n",
       "\n",
       "   userid_e  gameid_e  days_played  total_duration  total_sessions  gameplays  \\\n",
       "0     10465        90            5        1670.313              17         19   \n",
       "1      3032       102            6       14943.763              29         31   \n",
       "2     16821        85           26      139167.363             146        431   \n",
       "3      3133        47            3         165.771               4          5   \n",
       "4     10032       118            4        2045.379              12         12   \n",
       "\n",
       "   cluster  \n",
       "0        2  \n",
       "1        8  \n",
       "2        3  \n",
       "3        2  \n",
       "4        2  "
      ]
     },
     "execution_count": 11,
     "metadata": {},
     "output_type": "execute_result"
    }
   ],
   "source": [
    "df_1.head()"
   ]
  },
  {
   "cell_type": "code",
   "execution_count": 12,
   "id": "9d70bdd4-50fa-4257-b747-c57a535d143a",
   "metadata": {},
   "outputs": [],
   "source": [
    "#df_1.to_csv(r\"C:\\Users\\akshay.nayak\\Downloads\\japan_data_op.csv\")"
   ]
  },
  {
   "cell_type": "code",
   "execution_count": 13,
   "id": "dd81c9da-40c3-463a-972c-fe70d1defcc8",
   "metadata": {},
   "outputs": [],
   "source": [
    "def recommend_games(user_id, criteria='gameplays', top_n=10):\n",
    "    user_clusters = df_1[df_1['userid_e'] == user_id]['cluster']\n",
    "    \n",
    "    # If the user falls in multiple clusters, choose the cluster with the tie-breaking rules\n",
    "    if len(user_clusters) > 1:\n",
    "        cluster_counts = user_clusters.value_counts()\n",
    "        max_count = cluster_counts.max()\n",
    "        max_clusters = cluster_counts[cluster_counts == max_count].index.tolist()\n",
    "        if len(max_clusters) == 1:\n",
    "            user_cluster = max_clusters[0]\n",
    "        elif len(max_clusters) > 1:\n",
    "            max_gameplays = 0\n",
    "            for i in user_clusters.unique():\n",
    "                cluster_gameplays = df_1[(df_1['userid_e'] == user_id) & (df_1['cluster'] == i)][criteria].sum()\n",
    "                if cluster_gameplays > max_gameplays:\n",
    "                    max_gameplays = cluster_gameplays\n",
    "                    max_cluster = i\n",
    "            user_cluster = max_cluster\n",
    "    else:\n",
    "        user_cluster = user_clusters.values[0]\n",
    "    \n",
    "    similar_users = df_1[df_1['cluster'] == user_cluster]['userid_e'].unique()\n",
    "    similar_user_data = df_1[df_1['userid_e'].isin(similar_users)]\n",
    "    mean_criteria_per_game = similar_user_data.groupby('gameid_e')[criteria].sum().sort_values(ascending=False)\n",
    "    recommended_games = mean_criteria_per_game.index[:top_n].tolist()\n",
    "    mean_criteria = mean_criteria_per_game.values[:top_n]\n",
    "    return recommended_games, mean_criteria, user_cluster"
   ]
  },
  {
   "cell_type": "code",
   "execution_count": 14,
   "id": "29cfa643-33d3-4a61-9eb2-58021683432d",
   "metadata": {},
   "outputs": [
    {
     "name": "stdout",
     "output_type": "stream",
     "text": [
      "Recommended games for user 3032 : [118, 112, 53, 47, 64, 65, 48, 85, 123, 96]\n",
      "Mean of criteria total_duration : [6980239.78  5788821.094 3605388.382 3582447.063 3456248.205 2770710.973\n",
      " 2603626.91  2577850.175 2526770.357 2360964.947]\n",
      "0\n"
     ]
    },
    {
     "data": {
      "text/html": [
       "<div>\n",
       "<style scoped>\n",
       "    .dataframe tbody tr th:only-of-type {\n",
       "        vertical-align: middle;\n",
       "    }\n",
       "\n",
       "    .dataframe tbody tr th {\n",
       "        vertical-align: top;\n",
       "    }\n",
       "\n",
       "    .dataframe thead th {\n",
       "        text-align: right;\n",
       "    }\n",
       "</style>\n",
       "<table border=\"1\" class=\"dataframe\">\n",
       "  <thead>\n",
       "    <tr style=\"text-align: right;\">\n",
       "      <th></th>\n",
       "      <th>Recommended Games</th>\n",
       "      <th>Mean of Criteria</th>\n",
       "    </tr>\n",
       "  </thead>\n",
       "  <tbody>\n",
       "    <tr>\n",
       "      <th>0</th>\n",
       "      <td>118</td>\n",
       "      <td>6980239.780</td>\n",
       "    </tr>\n",
       "    <tr>\n",
       "      <th>1</th>\n",
       "      <td>112</td>\n",
       "      <td>5788821.094</td>\n",
       "    </tr>\n",
       "    <tr>\n",
       "      <th>2</th>\n",
       "      <td>53</td>\n",
       "      <td>3605388.382</td>\n",
       "    </tr>\n",
       "    <tr>\n",
       "      <th>3</th>\n",
       "      <td>47</td>\n",
       "      <td>3582447.063</td>\n",
       "    </tr>\n",
       "    <tr>\n",
       "      <th>4</th>\n",
       "      <td>64</td>\n",
       "      <td>3456248.205</td>\n",
       "    </tr>\n",
       "    <tr>\n",
       "      <th>5</th>\n",
       "      <td>65</td>\n",
       "      <td>2770710.973</td>\n",
       "    </tr>\n",
       "    <tr>\n",
       "      <th>6</th>\n",
       "      <td>48</td>\n",
       "      <td>2603626.910</td>\n",
       "    </tr>\n",
       "    <tr>\n",
       "      <th>7</th>\n",
       "      <td>85</td>\n",
       "      <td>2577850.175</td>\n",
       "    </tr>\n",
       "    <tr>\n",
       "      <th>8</th>\n",
       "      <td>123</td>\n",
       "      <td>2526770.357</td>\n",
       "    </tr>\n",
       "    <tr>\n",
       "      <th>9</th>\n",
       "      <td>96</td>\n",
       "      <td>2360964.947</td>\n",
       "    </tr>\n",
       "  </tbody>\n",
       "</table>\n",
       "</div>"
      ],
      "text/plain": [
       "   Recommended Games  Mean of Criteria\n",
       "0                118       6980239.780\n",
       "1                112       5788821.094\n",
       "2                 53       3605388.382\n",
       "3                 47       3582447.063\n",
       "4                 64       3456248.205\n",
       "5                 65       2770710.973\n",
       "6                 48       2603626.910\n",
       "7                 85       2577850.175\n",
       "8                123       2526770.357\n",
       "9                 96       2360964.947"
      ]
     },
     "execution_count": 14,
     "metadata": {},
     "output_type": "execute_result"
    }
   ],
   "source": [
    "user_id = 3032\n",
    "criteria = 'total_duration'\n",
    "top_n = 10\n",
    "recommended_games, mean_criteria, user_cluster = recommend_games(user_id, criteria, top_n)\n",
    "#print(\"user_cluster\", user_id, \":\", user_cluster)\n",
    "print(\"Recommended games for user\", user_id, \":\", recommended_games)\n",
    "print(\"Mean of criteria\", criteria, \":\", mean_criteria)\n",
    "print(user_cluster)\n",
    "\n",
    "df_combined = pd.DataFrame({'Recommended Games': recommended_games, 'Mean of Criteria': mean_criteria})\n",
    "\n",
    "df_combined\n"
   ]
  },
  {
   "cell_type": "code",
   "execution_count": null,
   "id": "c94a38a9-902a-4531-b6d5-7b983b8ca2d1",
   "metadata": {},
   "outputs": [],
   "source": []
  },
  {
   "cell_type": "code",
   "execution_count": 139,
   "id": "5e95b9ee-fc60-4729-839e-4d5d8a7c903a",
   "metadata": {},
   "outputs": [
    {
     "data": {
      "text/html": [
       "<div>\n",
       "<style scoped>\n",
       "    .dataframe tbody tr th:only-of-type {\n",
       "        vertical-align: middle;\n",
       "    }\n",
       "\n",
       "    .dataframe tbody tr th {\n",
       "        vertical-align: top;\n",
       "    }\n",
       "\n",
       "    .dataframe thead th {\n",
       "        text-align: right;\n",
       "    }\n",
       "</style>\n",
       "<table border=\"1\" class=\"dataframe\">\n",
       "  <thead>\n",
       "    <tr style=\"text-align: right;\">\n",
       "      <th></th>\n",
       "      <th>Recommended Games</th>\n",
       "      <th>Mean of Criteria</th>\n",
       "    </tr>\n",
       "  </thead>\n",
       "  <tbody>\n",
       "    <tr>\n",
       "      <th>0</th>\n",
       "      <td>118</td>\n",
       "      <td>1283</td>\n",
       "    </tr>\n",
       "    <tr>\n",
       "      <th>1</th>\n",
       "      <td>64</td>\n",
       "      <td>711</td>\n",
       "    </tr>\n",
       "    <tr>\n",
       "      <th>2</th>\n",
       "      <td>112</td>\n",
       "      <td>701</td>\n",
       "    </tr>\n",
       "    <tr>\n",
       "      <th>3</th>\n",
       "      <td>65</td>\n",
       "      <td>647</td>\n",
       "    </tr>\n",
       "    <tr>\n",
       "      <th>4</th>\n",
       "      <td>47</td>\n",
       "      <td>642</td>\n",
       "    </tr>\n",
       "    <tr>\n",
       "      <th>5</th>\n",
       "      <td>53</td>\n",
       "      <td>596</td>\n",
       "    </tr>\n",
       "    <tr>\n",
       "      <th>6</th>\n",
       "      <td>30</td>\n",
       "      <td>580</td>\n",
       "    </tr>\n",
       "    <tr>\n",
       "      <th>7</th>\n",
       "      <td>123</td>\n",
       "      <td>579</td>\n",
       "    </tr>\n",
       "    <tr>\n",
       "      <th>8</th>\n",
       "      <td>96</td>\n",
       "      <td>526</td>\n",
       "    </tr>\n",
       "    <tr>\n",
       "      <th>9</th>\n",
       "      <td>149</td>\n",
       "      <td>478</td>\n",
       "    </tr>\n",
       "  </tbody>\n",
       "</table>\n",
       "</div>"
      ],
      "text/plain": [
       "   Recommended Games  Mean of Criteria\n",
       "0                118              1283\n",
       "1                 64               711\n",
       "2                112               701\n",
       "3                 65               647\n",
       "4                 47               642\n",
       "5                 53               596\n",
       "6                 30               580\n",
       "7                123               579\n",
       "8                 96               526\n",
       "9                149               478"
      ]
     },
     "execution_count": 139,
     "metadata": {},
     "output_type": "execute_result"
    }
   ],
   "source": [
    "user_cluster = 2\n",
    "criteria = 'total_sessions'\n",
    "similar_users = df_1[df_1['cluster'] == user_cluster]['userid_e'].unique()\n",
    "similar_user_data = df_1[df_1['userid_e'].isin(similar_users)]\n",
    "mean_criteria_per_game = similar_user_data.groupby('gameid_e')[criteria].sum().sort_values(ascending=False)\n",
    "recommended_games = mean_criteria_per_game.index[:top_n].tolist()\n",
    "mean_criteria = mean_criteria_per_game.values[:top_n]\n",
    "\n",
    "df_combined = pd.DataFrame({'Recommended Games': recommended_games, 'Mean of Criteria': mean_criteria})\n",
    "\n",
    "df_combined"
   ]
  },
  {
   "cell_type": "code",
   "execution_count": 1,
   "id": "fc9a7191-beb5-450a-87c7-40d3650fced6",
   "metadata": {},
   "outputs": [
    {
     "name": "stdout",
     "output_type": "stream",
     "text": [
      "done\n"
     ]
    }
   ],
   "source": [
    "print('done')"
   ]
  },
  {
   "cell_type": "code",
   "execution_count": null,
   "id": "e11dab4d-225a-4a00-a20c-5b53b9a5c789",
   "metadata": {},
   "outputs": [],
   "source": []
  }
 ],
 "metadata": {
  "kernelspec": {
   "display_name": "Python 3 (ipykernel)",
   "language": "python",
   "name": "python3"
  },
  "language_info": {
   "codemirror_mode": {
    "name": "ipython",
    "version": 3
   },
   "file_extension": ".py",
   "mimetype": "text/x-python",
   "name": "python",
   "nbconvert_exporter": "python",
   "pygments_lexer": "ipython3",
   "version": "3.11.7"
  }
 },
 "nbformat": 4,
 "nbformat_minor": 5
}
